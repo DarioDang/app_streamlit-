{
 "cells": [
  {
   "cell_type": "code",
   "execution_count": 1,
   "metadata": {},
   "outputs": [],
   "source": [
    "#Import library\n",
    "import pandas as pd\n",
    "import numpy as np\n",
    "from sklearn.preprocessing import LabelEncoder\n",
    "from sklearn.model_selection import train_test_split\n",
    "from sklearn.preprocessing import StandardScaler\n",
    "from sklearn.ensemble import RandomForestClassifier\n",
    "from sklearn.metrics import accuracy_score\n",
    "import joblib "
   ]
  },
  {
   "cell_type": "code",
   "execution_count": 2,
   "metadata": {},
   "outputs": [],
   "source": [
    "#Read the stroke data\n",
    "data_stroke = pd.read_csv(\"data/stroke_data.csv\")\n",
    "#Read the diabetes data\n",
    "data_diabete = pd.read_csv(\"data/diabetes_data.csv\")\n",
    "#Read the heart_attack data\n",
    "data_heart_attack = pd.read_csv(\"data/heart_attack_data.csv\")"
   ]
  },
  {
   "cell_type": "code",
   "execution_count": 3,
   "metadata": {},
   "outputs": [],
   "source": [
    "# stroke columns selection\n",
    "data_stroke = data_stroke[['age', 'gender', 'hypertension', 'heart_disease', 'ever_married', \n",
    "                    'work_type', 'Residence_type', 'avg_glucose_level', 'bmi', 'smoking_status','stroke']]\n",
    "\n",
    "#diabetes columns selection\n",
    "data_diabete = data_diabete[['Age','Glucose','BloodPressure','SkinThickness','Insulin','BMI','Outcome']]\n",
    "\n",
    "# heart_attack columns selection\n",
    "data_heart_attack = data_heart_attack[['Age','Sex','Cholesterol','Heart Rate','Diabetes','Smoking','Obesity','Alcohol Consumption','Diet','Heart Attack Risk']]"
   ]
  },
  {
   "cell_type": "code",
   "execution_count": 4,
   "metadata": {},
   "outputs": [
    {
     "name": "stdout",
     "output_type": "stream",
     "text": [
      "Info for Stroke Data\n",
      "<class 'pandas.core.frame.DataFrame'>\n",
      "RangeIndex: 5110 entries, 0 to 5109\n",
      "Data columns (total 11 columns):\n",
      " #   Column             Non-Null Count  Dtype  \n",
      "---  ------             --------------  -----  \n",
      " 0   age                5110 non-null   float64\n",
      " 1   gender             5110 non-null   object \n",
      " 2   hypertension       5110 non-null   int64  \n",
      " 3   heart_disease      5110 non-null   int64  \n",
      " 4   ever_married       5110 non-null   object \n",
      " 5   work_type          5110 non-null   object \n",
      " 6   Residence_type     5110 non-null   object \n",
      " 7   avg_glucose_level  5110 non-null   float64\n",
      " 8   bmi                4909 non-null   float64\n",
      " 9   smoking_status     5110 non-null   object \n",
      " 10  stroke             5110 non-null   int64  \n",
      "dtypes: float64(3), int64(3), object(5)\n",
      "memory usage: 439.3+ KB\n",
      "None\n",
      "\n",
      "Info for Diabetes Data\n",
      "<class 'pandas.core.frame.DataFrame'>\n",
      "RangeIndex: 768 entries, 0 to 767\n",
      "Data columns (total 7 columns):\n",
      " #   Column         Non-Null Count  Dtype  \n",
      "---  ------         --------------  -----  \n",
      " 0   Age            768 non-null    int64  \n",
      " 1   Glucose        768 non-null    int64  \n",
      " 2   BloodPressure  768 non-null    int64  \n",
      " 3   SkinThickness  768 non-null    int64  \n",
      " 4   Insulin        768 non-null    int64  \n",
      " 5   BMI            768 non-null    float64\n",
      " 6   Outcome        768 non-null    int64  \n",
      "dtypes: float64(1), int64(6)\n",
      "memory usage: 42.1 KB\n",
      "None\n",
      "\n",
      "Info for Heart Attack Data\n",
      "<class 'pandas.core.frame.DataFrame'>\n",
      "RangeIndex: 8763 entries, 0 to 8762\n",
      "Data columns (total 10 columns):\n",
      " #   Column               Non-Null Count  Dtype \n",
      "---  ------               --------------  ----- \n",
      " 0   Age                  8763 non-null   int64 \n",
      " 1   Sex                  8763 non-null   object\n",
      " 2   Cholesterol          8763 non-null   int64 \n",
      " 3   Heart Rate           8763 non-null   int64 \n",
      " 4   Diabetes             8763 non-null   int64 \n",
      " 5   Smoking              8763 non-null   int64 \n",
      " 6   Obesity              8763 non-null   int64 \n",
      " 7   Alcohol Consumption  8763 non-null   int64 \n",
      " 8   Diet                 8763 non-null   object\n",
      " 9   Heart Attack Risk    8763 non-null   int64 \n",
      "dtypes: int64(8), object(2)\n",
      "memory usage: 684.7+ KB\n",
      "None\n",
      "\n"
     ]
    }
   ],
   "source": [
    "#Print out the infomation for each dataset \n",
    "datasets = [\n",
    "    ('Stroke Data', data_stroke),\n",
    "    ('Diabetes Data', data_diabete),\n",
    "    ('Heart Attack Data', data_heart_attack)\n",
    "]\n",
    "\n",
    "# Print info for each dataset\n",
    "for name, data in datasets:\n",
    "    print(\"Info for\", name)\n",
    "    print(data.info())\n",
    "    print()"
   ]
  },
  {
   "cell_type": "code",
   "execution_count": 5,
   "metadata": {},
   "outputs": [
    {
     "name": "stdout",
     "output_type": "stream",
     "text": [
      "NaN counts for Stroke Data:\n",
      "age                    0\n",
      "gender                 0\n",
      "hypertension           0\n",
      "heart_disease          0\n",
      "ever_married           0\n",
      "work_type              0\n",
      "Residence_type         0\n",
      "avg_glucose_level      0\n",
      "bmi                  201\n",
      "smoking_status         0\n",
      "stroke                 0\n",
      "dtype: int64\n",
      "\n",
      "NaN counts for Diabetes Data:\n",
      "Age              0\n",
      "Glucose          0\n",
      "BloodPressure    0\n",
      "SkinThickness    0\n",
      "Insulin          0\n",
      "BMI              0\n",
      "Outcome          0\n",
      "dtype: int64\n",
      "\n",
      "NaN counts for Heart Attack Data:\n",
      "Age                    0\n",
      "Sex                    0\n",
      "Cholesterol            0\n",
      "Heart Rate             0\n",
      "Diabetes               0\n",
      "Smoking                0\n",
      "Obesity                0\n",
      "Alcohol Consumption    0\n",
      "Diet                   0\n",
      "Heart Attack Risk      0\n",
      "dtype: int64\n",
      "\n"
     ]
    }
   ],
   "source": [
    "# Check the NaN values in each dataset\n",
    "def print_nan_counts(datasets):\n",
    "    for i in range(len(datasets)):\n",
    "        dataset_name, dataset = datasets[i]\n",
    "        print(f\"NaN counts for {dataset_name}:\")\n",
    "        print(dataset.isna().sum())\n",
    "        print()\n",
    "        \n",
    "print_nan_counts(datasets)"
   ]
  },
  {
   "cell_type": "code",
   "execution_count": 6,
   "metadata": {},
   "outputs": [
    {
     "name": "stdout",
     "output_type": "stream",
     "text": [
      "Before filling:\n",
      "201\n",
      "\n",
      "After filling:\n",
      "0\n"
     ]
    }
   ],
   "source": [
    "#fill the NaN values in the bmi column for stroke_data using mean imputation\n",
    "print(\"Before filling:\")\n",
    "print(data_stroke['bmi'].isna().sum())\n",
    "\n",
    "# Fill NaN values in the \"bmi\" column with the mean of the \"bmi\" column\n",
    "data_stroke['bmi'].fillna(data_stroke['bmi'].mean(), inplace=True)\n",
    "\n",
    "# Print NaN counts after filling\n",
    "print(\"\\nAfter filling:\")\n",
    "print(data_stroke['bmi'].isna().sum())\n"
   ]
  },
  {
   "cell_type": "code",
   "execution_count": 7,
   "metadata": {},
   "outputs": [
    {
     "name": "stdout",
     "output_type": "stream",
     "text": [
      "Label encoding Stroke Data:\n",
      "Label encoding the following columns: Index(['gender', 'ever_married', 'work_type', 'Residence_type',\n",
      "       'smoking_status'],\n",
      "      dtype='object')\n",
      "\n",
      "Label encoding Diabetes Data:\n",
      "No categorical variables found in the dataset.\n",
      "\n",
      "Label encoding Heart Attack Data:\n",
      "Label encoding the following columns: Index(['Sex', 'Diet'], dtype='object')\n"
     ]
    }
   ],
   "source": [
    "#Using label encoding on categorical variables in 3 datasets.\n",
    "def label_encode_dataset(data):\n",
    "    \"Write a function to check the categorical variables  using label enconding each categorical in the datasets\"\n",
    "    label_encoder = LabelEncoder()\n",
    "    # Check if there are any categorical variables\n",
    "    categorical_columns = data.select_dtypes(include=['object']).columns\n",
    "    if len(categorical_columns) > 0:\n",
    "        print(\"Label encoding the following columns:\", categorical_columns)\n",
    "        # Label encode each categorical column\n",
    "        for column in categorical_columns:\n",
    "            data[column] = label_encoder.fit_transform(data[column])\n",
    "    else:\n",
    "        print(\"No categorical variables found in the dataset.\")\n",
    "\n",
    "# Label encode each dataset\n",
    "print(\"Label encoding Stroke Data:\")\n",
    "label_encode_dataset(data_stroke)\n",
    "\n",
    "print(\"\\nLabel encoding Diabetes Data:\")\n",
    "label_encode_dataset(data_diabete)\n",
    "\n",
    "print(\"\\nLabel encoding Heart Attack Data:\")\n",
    "label_encode_dataset(data_heart_attack)"
   ]
  },
  {
   "cell_type": "code",
   "execution_count": 8,
   "metadata": {},
   "outputs": [
    {
     "name": "stdout",
     "output_type": "stream",
     "text": [
      "0    0\n",
      "1    2\n",
      "2    1\n",
      "3    0\n",
      "4    2\n",
      "5    2\n",
      "6    1\n",
      "7    0\n",
      "8    0\n",
      "9    2\n",
      "Name: Diet, dtype: int64\n",
      "[0 2 1]\n"
     ]
    }
   ],
   "source": [
    "print(data_heart_attack['Diet'].head(10))\n",
    "print(data_heart_attack['Diet'].unique())"
   ]
  },
  {
   "cell_type": "code",
   "execution_count": 9,
   "metadata": {},
   "outputs": [
    {
     "name": "stdout",
     "output_type": "stream",
     "text": [
      "Random Forest for Stroke Data\n",
      "Accuracy: 0.9393346379647749\n",
      "Model saved as stroke_data_model.joblib\n",
      "\n",
      "Random Forest for Diabetes Data\n",
      "Accuracy: 0.6948051948051948\n",
      "Model saved as diabetes_data_model.joblib\n",
      "\n",
      "Random Forest for Heart Attack Data\n",
      "Accuracy: 0.6183685111237878\n",
      "Model saved as heart_attack_data_model.joblib\n",
      "\n"
     ]
    }
   ],
   "source": [
    "#Basically, all the target variable from the datasets are at the last columns \n",
    "def split_data(data):\n",
    "    \"Function to split the data into training and testing\"\n",
    "    X = data.iloc[:, :-1]  # Exclude the last column as features\n",
    "    y = data.iloc[:, -1]   # Select the last column as target\n",
    "    X_train, X_test, y_train, y_test = train_test_split(X, y, test_size=0.2, random_state=42)\n",
    "    return X_train, X_test, y_train, y_test\n",
    "\n",
    "def perform_model(X_train, X_test, y_train, y_test):\n",
    "    \"Function to perform the Random Forest classification model\"\n",
    "    model = RandomForestClassifier(n_estimators=100, random_state=42)\n",
    "    model.fit(X_train, y_train)\n",
    "    y_pred = model.predict(X_test)\n",
    "    accuracy = accuracy_score(y_test, y_pred)\n",
    "    return accuracy, model\n",
    "\n",
    "def save_model(model, name):\n",
    "    \"Function to save a model to a file\"\n",
    "    filename = f\"{name.lower().replace(' ', '_')}_model.joblib\"\n",
    "    joblib.dump(model, filename)\n",
    "    print(f\"Model saved as {filename}\")\n",
    "    \n",
    "def train_models_and_save(datasets):\n",
    "    \"Function to train the model for each dataset\"\n",
    "    for name, data in datasets:\n",
    "        print(\"Random Forest for\", name)\n",
    "        X_train, X_test, y_train, y_test = split_data(data)\n",
    "        accuracy, model = perform_model(X_train, X_test, y_train, y_test)\n",
    "        print(\"Accuracy:\", accuracy)\n",
    "        save_model(model, name)\n",
    "        print()\n",
    "\n",
    "# Train the model for each dataset and save them\n",
    "train_models_and_save(datasets)\n"
   ]
  }
 ],
 "metadata": {
  "kernelspec": {
   "display_name": "Python 3",
   "language": "python",
   "name": "python3"
  },
  "language_info": {
   "codemirror_mode": {
    "name": "ipython",
    "version": 3
   },
   "file_extension": ".py",
   "mimetype": "text/x-python",
   "name": "python",
   "nbconvert_exporter": "python",
   "pygments_lexer": "ipython3",
   "version": "3.10.0"
  }
 },
 "nbformat": 4,
 "nbformat_minor": 2
}
